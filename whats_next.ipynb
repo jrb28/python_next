{
 "cells": [
  {
   "cell_type": "markdown",
   "metadata": {},
   "source": [
    "# What's Next in Python?\n",
    "\n",
    "Python skill building needs to start with learning for loop, while loops, and more intuitive constructs.  As one develops confidence with those, there comes a point when faster, more succinct methods of writing cod should be learned.  That is much of what is presented in this notebook, including these:\n",
    "\n",
    "- <a href=#*>The <font style=\"font-family:'Courier New\">*</font> operator</a>\n",
    "- <a href=#filter><font style=\"font-family:'Courier New\">filter</font> function</a>\n",
    "- <a href=#zip><font style=\"font-family:'Courier New\">zip</font> function</a>\n",
    "- <a href=#enumerate><font style=\"font-family:'Courier New\">enumerate</font></a>\n",
    "- <a href=#map><font style=\"font-family:'Courier New\">map</font> function</a>\n",
    "- <a href=#generators>Generators\n",
    "- <a href=#reduce><font style=\"font-family:'Courier New\">reduce</font> function\n",
    "\n",
    "Writing more robust, flexible code should be a coder's goal, and here is one method toward that end:\n",
    "\n",
    "- <a href=#args><font style=\"font-family:'Courier New\">\\*args</font>, <font style=\"font-family:'Courier New\">\\*\\*kwargs</font></a>\n",
    "\n",
    "Writing faster and more memory-efficient code is also a coder's goal.  Here are some tools to help with that:\n",
    "\n",
    "- <a href=#*><font style=\"font-family:'Courier New\">timeit</font></a>\n",
    "- <a href=#*>line_profiler</a>\n",
    "- <a href=#*>memory_profiler</a>\n",
    "\n",
    "In addition, here are some techniques that I use frequently taht save a lot of time and/or help my code to be more easily read:\n",
    "\n",
    "- <a href=#*>String substitution</a>\n",
    "- <a href=#*><font style=\"font-family:'Courier New\">os.walk()</font></a>\n",
    "- <a href=#*><font style=\"font-family:'Courier New\">glob</font></a>\n",
    "\n",
    "Perhaps for another day, but one important advanced topic are:\n",
    "\n",
    "- <a href=#*>Function decorators</a>\n",
    "- <a href=#*>Function docs</a>"
   ]
  },
  {
   "cell_type": "markdown",
   "metadata": {},
   "source": [
    "# The <font style=\"font-family:'Courier New\">*</font> Operator <a name='*' />\n",
    "\n",
    "<font style=\"font-family:'Courier New\">*</font> is not just for multiplication.  It also is an \"unpacking\" operator, as in unpacking elements from tuples, lists, generators, and similar objects.\n",
    "\n",
    "It is useful (in one instance) when data naturally are grouped in tuples and lists, but need to be sent individually to functions.  Below are two examples, one with the <font style=\"font-family:'Courier New\">*</font> and one with.  Without it, you need to use indices to access the elements.  In the latter, more readable and shorter code, you don't."
   ]
  },
  {
   "cell_type": "code",
   "execution_count": 1,
   "metadata": {},
   "outputs": [],
   "source": [
    "def distance(x0, y0, x1, y1):\n",
    "    return ((x1 - x0)**2 + (y1 - y0)**2)**0.5"
   ]
  },
  {
   "cell_type": "code",
   "execution_count": 4,
   "metadata": {},
   "outputs": [],
   "source": [
    "p0 = (1,2)\n",
    "p1 = (4,6)"
   ]
  },
  {
   "cell_type": "code",
   "execution_count": 5,
   "metadata": {},
   "outputs": [
    {
     "name": "stdout",
     "output_type": "stream",
     "text": [
      "5.0\n"
     ]
    }
   ],
   "source": [
    "print(distance(p0[0], p0[1], p1[0], p1[1]))"
   ]
  },
  {
   "cell_type": "code",
   "execution_count": 7,
   "metadata": {},
   "outputs": [
    {
     "name": "stdout",
     "output_type": "stream",
     "text": [
      "5.0\n"
     ]
    }
   ],
   "source": [
    "print(distance(*p0,*p1))"
   ]
  },
  {
   "cell_type": "markdown",
   "metadata": {},
   "source": [
    "# Packing up function arguments: <font style=\"font-family:'Courier New\">\\*args</font>, <font style=\"font-family:'Courier New\">\\*\\*kwargs</font>\n",
    "\n",
    "Functions have position arguments and named arguments, or keyword arguments.  In this function definition, <font style=\"font-family:'Courier New\">x</font> and <font style=\"font-family:'Courier New\">y</font> are positional arguments and <font style=\"font-family:'Courier New\">name</font> is a named argument.\n",
    "\n",
    "```\n",
    "def my_f(x, y, name = 'Scott'):\n",
    "    ...\n",
    "    return\n",
    "```\n",
    "\n",
    "A function call must have at least two arguments that will be interpreted, in this order, as <font style=\"font-family:'Courier New\">x</font> and <font style=\"font-family:'Courier New\">y</font>.  The named argument <font style=\"font-family:'Courier New\">name</font> is not required in this case as it has a default value defined.\n",
    "\n",
    "what if you need a function to be flexible in terms of how many and, perhaps, what types of arguments are provided?  Enter <font style=\"font-family:'Courier New\">\\*args</font>, <font style=\"font-family:'Courier New\">\\*\\*kwargs</font>."
   ]
  },
  {
   "cell_type": "code",
   "execution_count": 96,
   "metadata": {},
   "outputs": [],
   "source": [
    "def find_args(*args, **kwargs):\n",
    "    print('Positional arguments are:', [a for a in args])\n",
    "    print('Keyword arguments are:', {k:v for k,v in kwargs.items()})\n",
    "    return 'Done'"
   ]
  },
  {
   "cell_type": "code",
   "execution_count": 97,
   "metadata": {},
   "outputs": [
    {
     "name": "stdout",
     "output_type": "stream",
     "text": [
      "Positional arguments are: [1, 3, 5]\n",
      "Keyword arguments are: {'name': 'Scott', 'col': 'Movie'}\n",
      "Done\n"
     ]
    }
   ],
   "source": [
    "print(find_args(1, 3, 5, name = 'Scott', col = 'Movie'))"
   ]
  },
  {
   "cell_type": "code",
   "execution_count": 99,
   "metadata": {},
   "outputs": [
    {
     "name": "stdout",
     "output_type": "stream",
     "text": [
      "1955     1\n",
      "1965     1\n",
      "1968     1\n",
      "1973     1\n",
      "1974     1\n",
      "1975     1\n",
      "1976     3\n",
      "1978     1\n",
      "1979     2\n",
      "1980     1\n",
      "1981     1\n",
      "1982     2\n",
      "1984     4\n",
      "1985     1\n",
      "1986     1\n",
      "1987     1\n",
      "1988     2\n",
      "1989     3\n",
      "1990     3\n",
      "1991     3\n",
      "1992     3\n",
      "1993     5\n",
      "1994     3\n",
      "1995     6\n",
      "1996     4\n",
      "1997     9\n",
      "1998     5\n",
      "1999     6\n",
      "2000    10\n",
      "2001     6\n",
      "2002    14\n",
      "2003    12\n",
      "2004    11\n",
      "2005    15\n",
      "2006    17\n",
      "2007    20\n",
      "2008    26\n",
      "2009    23\n",
      "2010    18\n",
      "2011    23\n",
      "2012     8\n",
      "2013    17\n",
      "2014    19\n",
      "2015    27\n",
      "2016    30\n",
      "2017    33\n",
      "2018    48\n",
      "2019    17\n",
      "Name: release_year, dtype: int64\n"
     ]
    }
   ],
   "source": [
    "import pandas as pd\n",
    "df = pd.read_csv('netflix_titles.csv')\n",
    "\n",
    "df_filter = df[df['type'] == 'Movie']\n",
    "df_filter = df_filter[(df_filter['rating'] == 'PG') | (df_filter['rating'] == 'PG-13')]\n",
    "result = df_filter['release_year'].value_counts()\n",
    "result.sort_index(ascending = True, inplace = True)\n",
    "print(result)"
   ]
  },
  {
   "cell_type": "markdown",
   "metadata": {},
   "source": [
    "## Netflix <font style=\"font-family:'Courier New\">DataFrame</font> Flexible Filtering Function"
   ]
  },
  {
   "cell_type": "code",
   "execution_count": 121,
   "metadata": {},
   "outputs": [],
   "source": [
    "def net_filt(df, *args, **kwargs):\n",
    "    \n",
    "    '''\n",
    "    - keywords of kwargs are considered column name and values lists \n",
    "      of column values by which the rows are to be filtered\n",
    "    - elements in values iterables are interpreted as OR conditions\n",
    "    - conditions for multipple columns are considered as AND conditions\n",
    "    - df is a pandas DataFrame\n",
    "    '''\n",
    "    \n",
    "    conds = []\n",
    "    for k,v in kwargs.items():\n",
    "        cond = np.empty(df.shape[0]).astype(np.bool)\n",
    "        cond.fill(False)\n",
    "        for e in v:\n",
    "            cond = cond | (df[k] == e)\n",
    "        conds.append(cond)\n",
    "        \n",
    "        cond = np.empty(df.shape[0]).astype(np.bool)\n",
    "        cond.fill(True)\n",
    "        for c in conds:\n",
    "            cond = cond & c\n",
    "        \n",
    "    return df[cond]"
   ]
  },
  {
   "cell_type": "code",
   "execution_count": 122,
   "metadata": {},
   "outputs": [
    {
     "data": {
      "text/plain": [
       "1955     1\n",
       "1965     1\n",
       "1968     1\n",
       "1973     1\n",
       "1974     1\n",
       "1975     1\n",
       "1976     3\n",
       "1978     1\n",
       "1979     2\n",
       "1980     1\n",
       "1981     1\n",
       "1982     2\n",
       "1984     4\n",
       "1985     1\n",
       "1986     1\n",
       "1987     1\n",
       "1988     2\n",
       "1989     3\n",
       "1990     3\n",
       "1991     3\n",
       "1992     3\n",
       "1993     5\n",
       "1994     3\n",
       "1995     6\n",
       "1996     4\n",
       "1997     9\n",
       "1998     5\n",
       "1999     6\n",
       "2000    10\n",
       "2001     6\n",
       "2002    14\n",
       "2003    12\n",
       "2004    11\n",
       "2005    15\n",
       "2006    17\n",
       "2007    20\n",
       "2008    26\n",
       "2009    23\n",
       "2010    18\n",
       "2011    23\n",
       "2012     8\n",
       "2013    17\n",
       "2014    19\n",
       "2015    27\n",
       "2016    30\n",
       "2017    33\n",
       "2018    48\n",
       "2019    17\n",
       "Name: release_year, dtype: int64"
      ]
     },
     "execution_count": 122,
     "metadata": {},
     "output_type": "execute_result"
    }
   ],
   "source": [
    "df_r = net_filt(df, rating = ['PG', 'PG-13'], type = ['Movie'])\n",
    "result = df_r['release_year'].value_counts()\n",
    "result.sort_index(ascending = True)"
   ]
  },
  {
   "cell_type": "markdown",
   "metadata": {},
   "source": [
    "# <font style=\"font-family:'Courier New\">map</font> Function <a name='map' />\n",
    "\n",
    "The <font style=\"font-family:'Courier New\">map</font> function applies a function to a series of arguments.\n",
    "\n",
    "The function can be a built-in Python function, a custom function, a numpy function, a lambda function and more.\n",
    "\n",
    "The arguments to which the function is applied need to be in the form of an iterable."
   ]
  },
  {
   "cell_type": "code",
   "execution_count": 8,
   "metadata": {},
   "outputs": [
    {
     "name": "stdout",
     "output_type": "stream",
     "text": [
      "map() creates a map object: <map object at 0x00000265FBE39E80>\n"
     ]
    }
   ],
   "source": [
    "result = map(lambda x: x**2, range(9))\n",
    "print('map() creates a map object:', result)"
   ]
  },
  {
   "cell_type": "markdown",
   "metadata": {},
   "source": [
    "Note that the map function creates a map object.  We can't print it directly, but we can unpack it and print it or we can unpack it and put it in a list."
   ]
  },
  {
   "cell_type": "code",
   "execution_count": 9,
   "metadata": {},
   "outputs": [
    {
     "name": "stdout",
     "output_type": "stream",
     "text": [
      "[0, 1, 4, 9, 16, 25, 36, 49, 64]\n"
     ]
    }
   ],
   "source": [
    "result = map(lambda x: x**2, range(9))\n",
    "result = list(result)\n",
    "print(result)"
   ]
  },
  {
   "cell_type": "code",
   "execution_count": 10,
   "metadata": {},
   "outputs": [
    {
     "name": "stdout",
     "output_type": "stream",
     "text": [
      "[0, 1, 4, 9, 16, 25, 36, 49, 64]\n"
     ]
    }
   ],
   "source": [
    "result = map(lambda x: x**2, range(9))\n",
    "result = [*result]\n",
    "print(result)"
   ]
  },
  {
   "cell_type": "markdown",
   "metadata": {},
   "source": [
    "## Other <font style=\"font-family:'Courier New\">map</font> examples"
   ]
  },
  {
   "cell_type": "code",
   "execution_count": 14,
   "metadata": {},
   "outputs": [],
   "source": [
    "def add1(x):\n",
    "    return x + 1"
   ]
  },
  {
   "cell_type": "code",
   "execution_count": 13,
   "metadata": {},
   "outputs": [
    {
     "data": {
      "text/plain": [
       "[0.0, 1.0, 2.0, 3.0, 4.0, 5.0]"
      ]
     },
     "execution_count": 13,
     "metadata": {},
     "output_type": "execute_result"
    }
   ],
   "source": [
    "import math\n",
    "[*map(math.sqrt, [0, 1, 4, 9, 16, 25])]"
   ]
  },
  {
   "cell_type": "code",
   "execution_count": 15,
   "metadata": {},
   "outputs": [
    {
     "data": {
      "text/plain": [
       "[2, 4, 6, 8]"
      ]
     },
     "execution_count": 15,
     "metadata": {},
     "output_type": "execute_result"
    }
   ],
   "source": [
    "[*map(add1, (1,3,5,7))]"
   ]
  },
  {
   "cell_type": "code",
   "execution_count": 26,
   "metadata": {},
   "outputs": [
    {
     "data": {
      "text/plain": [
       "[2.8284271247461903, 2.8284271247461903]"
      ]
     },
     "execution_count": 26,
     "metadata": {},
     "output_type": "execute_result"
    }
   ],
   "source": [
    "import numpy as np\n",
    "[*map(lambda a, b: np.linalg.norm(a - b), np.array([[0,0], [1,1]]), np.array([[2,2], [3,3]]))]"
   ]
  },
  {
   "cell_type": "markdown",
   "metadata": {},
   "source": [
    "## <font style=\"font-family:'Courier New\">starmap</font>\n",
    "\n",
    "This is a derivative of the <font style=\"font-family:'Courier New\">map</font> function and it unpacks the multi-element arguments within the iterable (as in the <font style=\"font-family:'Courier New\">*</font> operator)."
   ]
  },
  {
   "cell_type": "code",
   "execution_count": 148,
   "metadata": {},
   "outputs": [
    {
     "name": "stdout",
     "output_type": "stream",
     "text": [
      "1 4 27\n"
     ]
    }
   ],
   "source": [
    "from itertools import starmap\n",
    "\n",
    "args = [(1,1), (2,2), (3,3)]\n",
    "result = starmap(pow, args)\n",
    "print(*result)"
   ]
  },
  {
   "cell_type": "markdown",
   "metadata": {},
   "source": [
    "# <font style=\"font-family:'Courier New\">zip</font> Function <a name='zip' />\n",
    "\n",
    "The <font style=\"font-family:'Courier New\">zip</font> function \"packages\" multiple iterables by iterating through them simultaneously and grouping elements from the different iterators by index."
   ]
  },
  {
   "cell_type": "code",
   "execution_count": 27,
   "metadata": {},
   "outputs": [
    {
     "name": "stdout",
     "output_type": "stream",
     "text": [
      "<zip object at 0x00000265FD325A40>\n"
     ]
    }
   ],
   "source": [
    "names = ('Joe', 'Jolene', 'Joellen', 'Joel')\n",
    "ages = (22, 27,32, 29)\n",
    "\n",
    "print(zip(names, ages))"
   ]
  },
  {
   "cell_type": "markdown",
   "metadata": {},
   "source": [
    "Just like the <font style=\"font-family:'Courier New\">map</font> function, <font style=\"font-family:'Courier New\">zip</font> returns an object.  We need to convert it to another form to print it."
   ]
  },
  {
   "cell_type": "code",
   "execution_count": 28,
   "metadata": {},
   "outputs": [
    {
     "data": {
      "text/plain": [
       "[('Joe', 22), ('Jolene', 27), ('Joellen', 32), ('Joel', 29)]"
      ]
     },
     "execution_count": 28,
     "metadata": {},
     "output_type": "execute_result"
    }
   ],
   "source": [
    "[*zip(names, ages)]"
   ]
  },
  {
   "cell_type": "code",
   "execution_count": 30,
   "metadata": {},
   "outputs": [
    {
     "data": {
      "text/plain": [
       "[('Joe', 22, 9301),\n",
       " ('Jolene', 27, 9305),\n",
       " ('Joellen', 32, 9307),\n",
       " ('Joel', 29, 9309)]"
      ]
     },
     "execution_count": 30,
     "metadata": {},
     "output_type": "execute_result"
    }
   ],
   "source": [
    "names = ['Joe', 'Jolene', 'Joellen', 'Joel']\n",
    "ages = [22, 27,32, 29]\n",
    "ids = [9301, 9305, 9307, 9309]\n",
    "[*zip(names, ages, ids)]"
   ]
  },
  {
   "cell_type": "markdown",
   "metadata": {},
   "source": [
    "What is happening here?"
   ]
  },
  {
   "cell_type": "code",
   "execution_count": 31,
   "metadata": {},
   "outputs": [
    {
     "data": {
      "text/plain": [
       "[('Joe', 'Jolene', 'Joellen', 'Joel'),\n",
       " (22, 27, 32, 29),\n",
       " (9301, 9305, 9307, 9309)]"
      ]
     },
     "execution_count": 31,
     "metadata": {},
     "output_type": "execute_result"
    }
   ],
   "source": [
    "[*zip(*zip(names, ages, ids))]"
   ]
  },
  {
   "cell_type": "markdown",
   "metadata": {},
   "source": [
    "### <font style=\"font-family:'Courier New\">zip</font> Applications\n",
    "\n",
    "The first example is transforming data given in <font style=\"font-family:'Courier New\">xy</font> coordinates into an <font style=\"font-family:'Courier New\">x</font>-series and <font style=\"font-family:'Courier New\">y</font>-series for plotting."
   ]
  },
  {
   "cell_type": "code",
   "execution_count": 131,
   "metadata": {},
   "outputs": [],
   "source": [
    "xy = [[0,0], [1,2], [2,3], [3,3],[4,2], [5,7]]"
   ]
  },
  {
   "cell_type": "code",
   "execution_count": 135,
   "metadata": {},
   "outputs": [],
   "source": [
    "x, y = zip(*xy)"
   ]
  },
  {
   "cell_type": "code",
   "execution_count": 138,
   "metadata": {},
   "outputs": [
    {
     "data": {
      "image/png": "[encoded data removed]",
      "text/plain": [
       "<Figure size 432x288 with 1 Axes>"
      ]
     },
     "metadata": {
      "needs_background": "light"
     },
     "output_type": "display_data"
    }
   ],
   "source": [
    "%matplotlib inline\n",
    "import matplotlib.pyplot as plt\n",
    "plt.plot(x, y)\n",
    "plt.show()"
   ]
  },
  {
   "cell_type": "markdown",
   "metadata": {},
   "source": [
    "Preparing data for a call to the <font style=\"font-family:'Courier New\">map()</font> function."
   ]
  },
  {
   "cell_type": "code",
   "execution_count": 142,
   "metadata": {},
   "outputs": [],
   "source": [
    "xyz = [(1,1,2), (2,1,4), (3,2,1), (4,1,2)]\n",
    "x, y, z = zip(*xyz)"
   ]
  },
  {
   "cell_type": "code",
   "execution_count": 143,
   "metadata": {},
   "outputs": [
    {
     "data": {
      "text/plain": [
       "[5.050000000000001, 9.350000000000001, 8.9, 11.350000000000001]"
      ]
     },
     "execution_count": 143,
     "metadata": {},
     "output_type": "execute_result"
    }
   ],
   "source": [
    "[*map(lambda x,y,z: 2.1*x + 0.75*y + 1.1*z, x, y, z)]"
   ]
  },
  {
   "cell_type": "markdown",
   "metadata": {},
   "source": [
    "# <font style=\"font-family:'Courier New\">enumerate</font> <a name='enumerate' />\n",
    "\n",
    "The <font style=\"font-family:'Courier New\">enumerate</font> function iterates through an iterable while augmenting the iteration with an index."
   ]
  },
  {
   "cell_type": "code",
   "execution_count": 33,
   "metadata": {},
   "outputs": [
    {
     "name": "stdout",
     "output_type": "stream",
     "text": [
      "0 Joe\n",
      "1 Jolene\n",
      "2 Joellen\n",
      "3 Joel\n"
     ]
    }
   ],
   "source": [
    "for i, name in enumerate(names):\n",
    "    print(i, name)"
   ]
  },
  {
   "cell_type": "code",
   "execution_count": 34,
   "metadata": {},
   "outputs": [
    {
     "data": {
      "text/plain": [
       "<enumerate at 0x265fd327a00>"
      ]
     },
     "execution_count": 34,
     "metadata": {},
     "output_type": "execute_result"
    }
   ],
   "source": [
    "enumerate(names)"
   ]
  },
  {
   "cell_type": "code",
   "execution_count": 35,
   "metadata": {},
   "outputs": [
    {
     "data": {
      "text/plain": [
       "[(0, 'Joe'), (1, 'Jolene'), (2, 'Joellen'), (3, 'Joel')]"
      ]
     },
     "execution_count": 35,
     "metadata": {},
     "output_type": "execute_result"
    }
   ],
   "source": [
    "[*enumerate(names)]"
   ]
  },
  {
   "cell_type": "markdown",
   "metadata": {},
   "source": [
    "One of the circumstances when you might want an index is to create a dictionary from a list of data, like this:"
   ]
  },
  {
   "cell_type": "code",
   "execution_count": 37,
   "metadata": {},
   "outputs": [
    {
     "data": {
      "text/plain": [
       "{(0, 'Joe'), (1, 'Jolene'), (2, 'Joellen'), (3, 'Joel')}"
      ]
     },
     "execution_count": 37,
     "metadata": {},
     "output_type": "execute_result"
    }
   ],
   "source": [
    "dicNames = {*enumerate(names)}\n",
    "dicNames"
   ]
  },
  {
   "cell_type": "markdown",
   "metadata": {},
   "source": [
    "# <font style=\"font-family:'Courier New\">filter</font> Function <a name='filter' />\n",
    "\n",
    "The <font style=\"font-family:'Courier New\">filter</font> function filters data, returning only the data meeting specified criteria in the form of a function that returns a Boolean value. The criteria[ion] are[is] specified first, and then the iterable to which to apply the condition."
   ]
  },
  {
   "cell_type": "code",
   "execution_count": 38,
   "metadata": {},
   "outputs": [
    {
     "data": {
      "text/plain": [
       "<filter at 0x265fd323250>"
      ]
     },
     "execution_count": 38,
     "metadata": {},
     "output_type": "execute_result"
    }
   ],
   "source": [
    "result = filter(lambda x: x % 2 == 0, [0, 1, 2, 3])\n",
    "result"
   ]
  },
  {
   "cell_type": "markdown",
   "metadata": {},
   "source": [
    "Again an object is return that must be unpacked to view."
   ]
  },
  {
   "cell_type": "code",
   "execution_count": 39,
   "metadata": {},
   "outputs": [
    {
     "data": {
      "text/plain": [
       "[0, 2]"
      ]
     },
     "execution_count": 39,
     "metadata": {},
     "output_type": "execute_result"
    }
   ],
   "source": [
    "[*result]"
   ]
  },
  {
   "cell_type": "code",
   "execution_count": 40,
   "metadata": {},
   "outputs": [],
   "source": [
    "def big(x):\n",
    "  return x > 100"
   ]
  },
  {
   "cell_type": "code",
   "execution_count": 44,
   "metadata": {},
   "outputs": [
    {
     "data": {
      "text/plain": [
       "[102, 104, 106, 108, 110]"
      ]
     },
     "execution_count": 44,
     "metadata": {},
     "output_type": "execute_result"
    }
   ],
   "source": [
    "result = filter(big, range(90, 111, 2))\n",
    "[*result]"
   ]
  },
  {
   "cell_type": "markdown",
   "metadata": {},
   "source": [
    "# Generators <a name='generators' />\n",
    "\n",
    "The objects returned by <font style=\"font-family:'Courier New\">map</font>, <font style=\"font-family:'Courier New\">filter</font>, <font style=\"font-family:'Courier New\">zip</font>, and <font style=\"font-family:'Courier New\">enumerate</font> are _generators_ which is why we needed to \"unpack\" them before printing them.  \n",
    "\n",
    "Generators are functions that generate a sequence of values one at a time.  The <font style=\"font-family:'Courier New\">map</font>, <font style=\"font-family:'Courier New\">filter</font>, and <font style=\"font-family:'Courier New\">zip</font> do not construct an entire result immediately but rather wait for a code statemeent to be executed to get the next value.\n",
    "\n",
    "* This way incredibly long sequences of values are available although they are not immediately created and by so doing taking up a lot of memory.\n",
    "* It makes it possible to work with large quantities of data without crashing your machine."
   ]
  },
  {
   "cell_type": "code",
   "execution_count": 50,
   "metadata": {},
   "outputs": [],
   "source": [
    "def my_gen(x=0):\n",
    "    while x <= 10:\n",
    "        yield x\n",
    "        x += 1"
   ]
  },
  {
   "cell_type": "code",
   "execution_count": 51,
   "metadata": {},
   "outputs": [
    {
     "data": {
      "text/plain": [
       "[0, 1, 2, 3, 4, 5, 6, 7, 8, 9, 10]"
      ]
     },
     "execution_count": 51,
     "metadata": {},
     "output_type": "execute_result"
    }
   ],
   "source": [
    "[y for y in my_gen()]"
   ]
  },
  {
   "cell_type": "code",
   "execution_count": 54,
   "metadata": {},
   "outputs": [
    {
     "name": "stdout",
     "output_type": "stream",
     "text": [
      "0\n",
      "1\n",
      "2\n",
      "3\n"
     ]
    }
   ],
   "source": [
    "gene = (my_gen())\n",
    "print(next(gene))\n",
    "print(next(gene))\n",
    "print(next(gene))\n",
    "print(next(gene))"
   ]
  },
  {
   "cell_type": "markdown",
   "metadata": {},
   "source": [
    "Generators can be constructed with parentheses and statements looking sometimes like list comprehension."
   ]
  },
  {
   "cell_type": "code",
   "execution_count": 59,
   "metadata": {},
   "outputs": [
    {
     "name": "stdout",
     "output_type": "stream",
     "text": [
      "0\n",
      "1\n"
     ]
    }
   ],
   "source": [
    "my_gen1 = (y for y in my_gen())\n",
    "print(next(my_gen1))\n",
    "print(next(my_gen1))"
   ]
  },
  {
   "cell_type": "code",
   "execution_count": 55,
   "metadata": {},
   "outputs": [
    {
     "name": "stdout",
     "output_type": "stream",
     "text": [
      "3\n",
      "4\n",
      "5\n",
      "6\n",
      "7\n",
      "8\n",
      "9\n",
      "10\n"
     ]
    }
   ],
   "source": [
    "for y in my_gen(3):\n",
    "    print(y)"
   ]
  },
  {
   "cell_type": "markdown",
   "metadata": {},
   "source": [
    "__DO NOT EXECUTE THIS NEXT CELL!!!__ What do you think would hapen if you did?"
   ]
  },
  {
   "cell_type": "code",
   "execution_count": null,
   "metadata": {},
   "outputs": [],
   "source": [
    "my_list = []\n",
    "for i in range(999999999999999999999999999999999999999999999999999999999999999999999):\n",
    "    my_list.append(i)"
   ]
  },
  {
   "cell_type": "markdown",
   "metadata": {},
   "source": [
    "Can you execute the cell below?"
   ]
  },
  {
   "cell_type": "code",
   "execution_count": 57,
   "metadata": {},
   "outputs": [
    {
     "name": "stdout",
     "output_type": "stream",
     "text": [
      "0\n",
      "1\n",
      "2\n",
      "3\n",
      "4\n",
      "5\n",
      "6\n",
      "7\n",
      "8\n"
     ]
    }
   ],
   "source": [
    "big_gen = (y for y in range(999999999999999999999999999999999999999999999999999999999999999999999))\n",
    "print(next(big_gen))\n",
    "print(next(big_gen))\n",
    "print(next(big_gen))\n",
    "print(next(big_gen))\n",
    "print(next(big_gen))\n",
    "print(next(big_gen))\n",
    "print(next(big_gen))\n",
    "print(next(big_gen))\n",
    "print(next(big_gen))"
   ]
  },
  {
   "cell_type": "markdown",
   "metadata": {},
   "source": [
    "# Iterators\n",
    "\n",
    "Content to be added soon!"
   ]
  },
  {
   "cell_type": "markdown",
   "metadata": {},
   "source": [
    "# <font style=\"font-family:'Courier New\">reduce</font> Function <a name='reduce' />\n",
    "\n",
    "The <font style=\"font-family:'Courier New\">reduce</font> function applies a function to a sequence of elements and returns one value.\n",
    "\n",
    "In the case below, each sequential pair of elements are multiplied and then multiplied by the preceeding running multiple."
   ]
  },
  {
   "cell_type": "code",
   "execution_count": 65,
   "metadata": {},
   "outputs": [
    {
     "name": "stdout",
     "output_type": "stream",
     "text": [
      "720\n"
     ]
    }
   ],
   "source": [
    "from functools import reduce\n",
    "\n",
    "x = range(1, 7)\n",
    "print(reduce(lambda y, z: y*z, x))"
   ]
  },
  {
   "cell_type": "code",
   "execution_count": 145,
   "metadata": {},
   "outputs": [
    {
     "data": {
      "text/plain": [
       "array([ True,  True, False,  True])"
      ]
     },
     "execution_count": 145,
     "metadata": {},
     "output_type": "execute_result"
    }
   ],
   "source": [
    "z = np.array([[True, False, False, True], [True, True, False, False], [False, False, False, False]])\n",
    "reduce(lambda x,y: x|y, z)"
   ]
  },
  {
   "cell_type": "markdown",
   "metadata": {},
   "source": [
    "# Code Performance: Speed and Memory Consumption\n",
    "\n",
    "Writing code that can be executed faster and that uses less memory makes the code feasible to run and more useful because insights are obtained more quickly."
   ]
  },
  {
   "cell_type": "markdown",
   "metadata": {},
   "source": [
    "## <font style=\"font-family:'Courier New\">timeit</font> <a name='timeit' />\n",
    "\n",
    "The <font style=\"font-family:'Courier New\">timeit</font> utility will execute a code snippet multiple times and give you the mean execution time and standard deviation as well.\n",
    "\n",
    "- <font style=\"font-family:'Courier New\">%timeit</font> analyzes one statement \n",
    "- <font style=\"font-family:'Courier New\">%%timeit</font> analyzes one cell "
   ]
  },
  {
   "cell_type": "code",
   "execution_count": 69,
   "metadata": {},
   "outputs": [
    {
     "name": "stdout",
     "output_type": "stream",
     "text": [
      "1.04 µs ± 47.6 ns per loop (mean ± std. dev. of 7 runs, 1000000 loops each)\n"
     ]
    }
   ],
   "source": [
    "%%timeit\n",
    "new_list = []\n",
    "for i in range(10):\n",
    "    new_list.append(i)"
   ]
  },
  {
   "cell_type": "code",
   "execution_count": 66,
   "metadata": {},
   "outputs": [
    {
     "name": "stdout",
     "output_type": "stream",
     "text": [
      "745 ns ± 27.7 ns per loop (mean ± std. dev. of 7 runs, 1000000 loops each)\n"
     ]
    }
   ],
   "source": [
    "%timeit x = [i for i in range(10)]"
   ]
  },
  {
   "cell_type": "code",
   "execution_count": 10,
   "metadata": {},
   "outputs": [
    {
     "name": "stdout",
     "output_type": "stream",
     "text": [
      "529 ns ± 23.3 ns per loop (mean ± std. dev. of 7 runs, 1000000 loops each)\n"
     ]
    }
   ],
   "source": [
    "%timeit y = (i for i in range(10))"
   ]
  },
  {
   "cell_type": "code",
   "execution_count": null,
   "metadata": {},
   "outputs": [],
   "source": [
    "%%timeit \n",
    "y = (i for i in range(10))\n",
    "y = list(y)"
   ]
  },
  {
   "cell_type": "code",
   "execution_count": 82,
   "metadata": {},
   "outputs": [
    {
     "data": {
      "text/plain": [
       "[14.142135623730951,\n",
       " 11.313708498984761,\n",
       " 8.48528137423857,\n",
       " 5.656854249492381,\n",
       " 2.8284271247461903]"
      ]
     },
     "execution_count": 82,
     "metadata": {},
     "output_type": "execute_result"
    }
   ],
   "source": [
    "p0 = [[10, 10], [9, 9], [8, 8], [7, 7], [6, 6]]\n",
    "p1 = [[0,0], [1,1], [2,2], [3,3], [4,4]]\n",
    "dist = []\n",
    "for i in range(len(p0)):\n",
    "    dist.append(((p0[i][0] - p1[i][0])**2 + (p0[i][1] - p1[i][1])**2)**0.5)\n",
    "dist"
   ]
  },
  {
   "cell_type": "code",
   "execution_count": 152,
   "metadata": {},
   "outputs": [
    {
     "name": "stdout",
     "output_type": "stream",
     "text": [
      "5.72 µs ± 710 ns per loop (mean ± std. dev. of 7 runs, 100000 loops each)\n"
     ]
    }
   ],
   "source": [
    "%%timeit\n",
    "p0 = [[10, 10], [9, 9], [8, 8], [7, 7], [6, 6]]\n",
    "p1 = [[0,0], [1,1], [2,2], [3,3], [4,4]]\n",
    "dist = []\n",
    "for i in range(len(p0)):\n",
    "    dist.append(((p0[i][0] - p1[i][0])**2 + (p0[i][1] - p1[i][1])**2)**0.5)\n",
    "dist"
   ]
  },
  {
   "cell_type": "code",
   "execution_count": 153,
   "metadata": {},
   "outputs": [
    {
     "name": "stdout",
     "output_type": "stream",
     "text": [
      "5.3 µs ± 488 ns per loop (mean ± std. dev. of 7 runs, 100000 loops each)\n"
     ]
    }
   ],
   "source": [
    "%%timeit\n",
    "p0 = [[10, 10], [9, 9], [8, 8], [7, 7], [6, 6]]\n",
    "p1 = [[0,0], [1,1], [2,2], [3,3], [4,4]]\n",
    "[*map(lambda p,q:((p[0] - q[0])**2 + (p[1] - q[1])**2)**0.5 , p0, p1)] # "
   ]
  },
  {
   "cell_type": "code",
   "execution_count": 76,
   "metadata": {},
   "outputs": [
    {
     "data": {
      "text/plain": [
       "[14.142135623730951,\n",
       " 11.313708498984761,\n",
       " 8.48528137423857,\n",
       " 5.656854249492381,\n",
       " 2.8284271247461903]"
      ]
     },
     "execution_count": 76,
     "metadata": {},
     "output_type": "execute_result"
    }
   ],
   "source": [
    "p0 = [[10, 10], [9, 9], [8, 8], [7, 7], [6, 6]]\n",
    "p1 = [[0,0], [1,1], [2,2], [3,3], [4,4]]\n",
    "[*map(lambda p,q:((p[0] - q[0])**2 + (p[1] - q[1])**2)**0.5 , p0, p1)]"
   ]
  },
  {
   "cell_type": "markdown",
   "metadata": {},
   "source": [
    "### Time map Function"
   ]
  },
  {
   "cell_type": "code",
   "execution_count": 5,
   "metadata": {},
   "outputs": [
    {
     "name": "stdout",
     "output_type": "stream",
     "text": [
      "3.28 ms ± 161 µs per loop (mean ± std. dev. of 7 runs, 100 loops each)\n"
     ]
    }
   ],
   "source": [
    "%%timeit\n",
    "n = 10000\n",
    "result = []\n",
    "for i in range(n):\n",
    "    result.append(i**2)"
   ]
  },
  {
   "cell_type": "code",
   "execution_count": 4,
   "metadata": {},
   "outputs": [
    {
     "name": "stdout",
     "output_type": "stream",
     "text": [
      "3.18 ms ± 160 µs per loop (mean ± std. dev. of 7 runs, 100 loops each)\n"
     ]
    }
   ],
   "source": [
    "%%timeit\n",
    "n = 10000\n",
    "result = map(lambda x: x**2, range(n))\n",
    "result = [*result]"
   ]
  },
  {
   "cell_type": "markdown",
   "metadata": {},
   "source": [
    "## line_profiler\n",
    "\n",
    "Using the line profiler requires these:\n",
    "\n",
    "- The profiler must be installed within your Anaconda environment\n",
    "  - Open an Anaconda command prompt As Administrator\n",
    "  - Execute \"conda install -c anaconda line_profiler\"\n",
    "- You must load the profiler as described below\n",
    "- Define the code to be profiled in a function\n",
    "- You must launch the profiler as described below"
   ]
  },
  {
   "cell_type": "markdown",
   "metadata": {},
   "source": [
    "Load line profiler"
   ]
  },
  {
   "cell_type": "code",
   "execution_count": 169,
   "metadata": {},
   "outputs": [
    {
     "name": "stdout",
     "output_type": "stream",
     "text": [
      "The line_profiler extension is already loaded. To reload it, use:\n",
      "  %reload_ext line_profiler\n"
     ]
    }
   ],
   "source": [
    "%load_ext line_profiler"
   ]
  },
  {
   "cell_type": "markdown",
   "metadata": {},
   "source": [
    "Functions to be profiled."
   ]
  },
  {
   "cell_type": "code",
   "execution_count": 186,
   "metadata": {},
   "outputs": [],
   "source": [
    "def bmi_loop(hts, wts):\n",
    "    assert len(hts) == len(wts)\n",
    "    \n",
    "    ''' Convert English (in, lbs) to metric (cm, kg) '''\n",
    "    hts_m = []\n",
    "    wts_m = []\n",
    "    for i in range(len(hts)):\n",
    "        hts_m.append(hts[i] * 2.54)\n",
    "        wts_m.append(wts[i] / 2.20464)\n",
    "        \n",
    "    bmi = []\n",
    "    for i in range(len(hts_m)):\n",
    "        bmi.append(wts_m[i]/hts_m[i]**2)\n",
    "        \n",
    "    return bmi"
   ]
  },
  {
   "cell_type": "code",
   "execution_count": 173,
   "metadata": {},
   "outputs": [],
   "source": [
    "def bmi_list_comp(hts, wts):\n",
    "    assert len(hts) == len(wts)\n",
    "    return [wts[i]*2.20464/(hts[i]*2.54)**2 for i in range(len(hts))]"
   ]
  },
  {
   "cell_type": "code",
   "execution_count": 177,
   "metadata": {},
   "outputs": [],
   "source": [
    "def bmi_gen(hts, wts):\n",
    "    assert len(hts) == len(wts)\n",
    "    return(wts[i]*2.20464/(hts[i]*2.54)**2 for i in range(len(hts)))"
   ]
  },
  {
   "cell_type": "markdown",
   "metadata": {},
   "source": [
    "Data to be analyzed"
   ]
  },
  {
   "cell_type": "code",
   "execution_count": 194,
   "metadata": {},
   "outputs": [],
   "source": [
    "import random\n",
    "import numpy as np\n",
    "heights = [50 + 34*random.random() for i in range(100000)]\n",
    "weights = [110 + 120*random.random() for i in range(100000)]\n",
    "heights_np = np.array(heights)\n",
    "weights_np = np.array(weights)"
   ]
  },
  {
   "cell_type": "markdown",
   "metadata": {},
   "source": [
    "Launch line_profiler"
   ]
  },
  {
   "cell_type": "code",
   "execution_count": 187,
   "metadata": {},
   "outputs": [],
   "source": [
    "%lprun -f bmi_loop bmi_loop(heights, weights)"
   ]
  },
  {
   "cell_type": "code",
   "execution_count": 176,
   "metadata": {},
   "outputs": [],
   "source": [
    "%lprun -f bmi_list_comp bmi_list_comp(heights, weights)"
   ]
  },
  {
   "cell_type": "code",
   "execution_count": 178,
   "metadata": {},
   "outputs": [],
   "source": [
    "%lprun -f bmi_gen bmi_gen(heights, weights)"
   ]
  },
  {
   "cell_type": "markdown",
   "metadata": {},
   "source": [
    "## memory_profiler\n",
    "\n",
    "Using the memory profiler requires these:\n",
    "\n",
    "- The profiler must be installed within your Anaconda environment\n",
    "  - Open an Anaconda command prompt As Administrator\n",
    "  - Execute \"conda install -c anaconda memory_profiler\"\n",
    "- You must load the profiler as described below\n",
    "- The code to be evaluated must be in a code file rather than in a Jupyter notebook or in a Python file in an active development environment windows (eg.., Spyder)\n",
    "- import function from its file\n",
    "- You must launch the profiler as described below"
   ]
  },
  {
   "cell_type": "markdown",
   "metadata": {},
   "source": [
    "Load memory profiler"
   ]
  },
  {
   "cell_type": "code",
   "execution_count": 151,
   "metadata": {},
   "outputs": [],
   "source": [
    "%load_ext memory_profiler"
   ]
  },
  {
   "cell_type": "markdown",
   "metadata": {},
   "source": [
    "Import functions"
   ]
  },
  {
   "cell_type": "code",
   "execution_count": 195,
   "metadata": {},
   "outputs": [],
   "source": [
    "from f0 import bmi_loop\n",
    "from f1 import bmi_list_comp\n",
    "from f2 import bmi_gen"
   ]
  },
  {
   "cell_type": "markdown",
   "metadata": {},
   "source": [
    "Launch memory profiler"
   ]
  },
  {
   "cell_type": "code",
   "execution_count": 200,
   "metadata": {},
   "outputs": [
    {
     "name": "stdout",
     "output_type": "stream",
     "text": [
      "\n"
     ]
    }
   ],
   "source": [
    "%mprun -f bmi_loop bmi_loop(heights, weights)"
   ]
  },
  {
   "cell_type": "code",
   "execution_count": 199,
   "metadata": {},
   "outputs": [
    {
     "name": "stdout",
     "output_type": "stream",
     "text": [
      "\n"
     ]
    }
   ],
   "source": [
    "%mprun -f bmi_list_comp bmi_list_comp(heights, weights)"
   ]
  },
  {
   "cell_type": "code",
   "execution_count": 198,
   "metadata": {},
   "outputs": [
    {
     "name": "stdout",
     "output_type": "stream",
     "text": [
      "\n"
     ]
    }
   ],
   "source": [
    "%mprun -f bmi_gen bmi_gen(heights, weights)"
   ]
  },
  {
   "cell_type": "markdown",
   "metadata": {},
   "source": [
    "# Finding Files\n",
    "\n",
    "## <font style=\"font-family:'Courier New\">os.walk()</font> <a name='os.walk' />\n",
    "\n",
    "This utility steps through the files and folders at a particular location on a hard drive, as well as all child folders."
   ]
  },
  {
   "cell_type": "code",
   "execution_count": 154,
   "metadata": {},
   "outputs": [],
   "source": [
    "import os"
   ]
  },
  {
   "cell_type": "code",
   "execution_count": 155,
   "metadata": {},
   "outputs": [],
   "source": [
    "path = 'TestFolder'"
   ]
  },
  {
   "cell_type": "code",
   "execution_count": 158,
   "metadata": {},
   "outputs": [
    {
     "name": "stdout",
     "output_type": "stream",
     "text": [
      "TestFolder ['folder1', 'folder2'] []\n",
      "TestFolder\\folder1 [] ['doc1.txt', 'doc2.txt', 'doc3.txt']\n",
      "TestFolder\\folder2 [] ['doc4.txt', 'doc5.txt', 'doc6.txt']\n"
     ]
    }
   ],
   "source": [
    "for root, folder, file in os.walk(path):\n",
    "    print(root, folder, file)"
   ]
  },
  {
   "cell_type": "markdown",
   "metadata": {},
   "source": [
    "## <font style=\"font-family:'Courier New\">glob </font> <a name='glob' />\n",
    "\n",
    "This utility looks for files in a particular folder satisfying a particular search pattern."
   ]
  },
  {
   "cell_type": "code",
   "execution_count": 160,
   "metadata": {},
   "outputs": [],
   "source": [
    "import glob"
   ]
  },
  {
   "cell_type": "code",
   "execution_count": 161,
   "metadata": {},
   "outputs": [],
   "source": [
    "path = 'TestFolder/folder1/'"
   ]
  },
  {
   "cell_type": "code",
   "execution_count": 162,
   "metadata": {},
   "outputs": [
    {
     "name": "stdout",
     "output_type": "stream",
     "text": [
      "['TestFolder/folder1\\\\doc1.txt', 'TestFolder/folder1\\\\doc2.txt', 'TestFolder/folder1\\\\doc3.txt']\n"
     ]
    }
   ],
   "source": [
    "files = glob.glob(path + 'doc*.txt')\n",
    "print(files)"
   ]
  },
  {
   "cell_type": "code",
   "execution_count": 165,
   "metadata": {},
   "outputs": [
    {
     "name": "stdout",
     "output_type": "stream",
     "text": [
      "['Hello from doc1.txt!']\n",
      "['Hello from doc2.txt!']\n",
      "['Hello from doc3.txt!']\n"
     ]
    }
   ],
   "source": [
    "for file in files:\n",
    "    with open(file,'r') as f:\n",
    "        print(f.readlines())"
   ]
  },
  {
   "cell_type": "markdown",
   "metadata": {},
   "source": [
    "# String Substitution\n",
    "\n",
    "There are many techniques for this, as discussed here: [https://realpython.com/python-string-formatting/](https://realpython.com/python-string-formatting/)"
   ]
  },
  {
   "cell_type": "markdown",
   "metadata": {},
   "source": [
    "Here's the most basic string substitution with placehodlers for string, integer, and float values: <font style=\"font-family:'Courier New\">%s</font>, <font style=\"font-family:'Courier New\">%d</font>, <font style=\"font-family:'Courier New\">%f</font>, respectively."
   ]
  },
  {
   "cell_type": "code",
   "execution_count": 123,
   "metadata": {},
   "outputs": [
    {
     "name": "stdout",
     "output_type": "stream",
     "text": [
      "This is an integer: 1\n",
      "This is a float: 3.141590\n",
      "This is a string: hello\n"
     ]
    }
   ],
   "source": [
    "str_template = 'This is an integer: %d\\nThis is a float: %f\\nThis is a string: %s'\n",
    "print(str_template % (1, 3.14159, 'hello'))"
   ]
  },
  {
   "cell_type": "markdown",
   "metadata": {},
   "source": [
    "You can indicate the number of digits to reserve for an integer and float, and teh numbers after the decimal for floats indicate the number of decimal places to display.  Leading zeros indicate that the empty leading reserved places should be filled with zeros (padded)."
   ]
  },
  {
   "cell_type": "code",
   "execution_count": 124,
   "metadata": {},
   "outputs": [
    {
     "name": "stdout",
     "output_type": "stream",
     "text": [
      "This is an integer: 01\n",
      "This is a float: 3.1416\n",
      "This is a string: hello\n"
     ]
    }
   ],
   "source": [
    "str_template = 'This is an integer: %02d\\nThis is a float: %6.4f\\nThis is a string: %s'\n",
    "print(str_template % (1, 3.14159, 'hello'))"
   ]
  },
  {
   "cell_type": "markdown",
   "metadata": {},
   "source": [
    "This style of formatting has been more recently introduced."
   ]
  },
  {
   "cell_type": "code",
   "execution_count": 125,
   "metadata": {},
   "outputs": [
    {
     "name": "stdout",
     "output_type": "stream",
     "text": [
      "This is an integer: 01\n",
      "This is a float: 3.1416\n",
      "This is a string: hello\n"
     ]
    }
   ],
   "source": [
    "str_template = 'This is an integer: {:02d}\\nThis is a float: {:6.4f}\\nThis is a string: {:s}'\n",
    "print(str_template.format(1, 3.14159, 'hello'))"
   ]
  },
  {
   "cell_type": "markdown",
   "metadata": {},
   "source": [
    "In this version of the newer style, the integers preceding the colons indicate the sequence number of the element from the tuple to be substituted."
   ]
  },
  {
   "cell_type": "code",
   "execution_count": 127,
   "metadata": {},
   "outputs": [
    {
     "name": "stdout",
     "output_type": "stream",
     "text": [
      "This is an integer: 01\n",
      "This is a float: 3.1416\n",
      "This is a string: hello\n"
     ]
    }
   ],
   "source": [
    "str_template = 'This is an integer: {2:02d}\\nThis is a float: {1:6.4f}\\nThis is a string: {0:s}'\n",
    "print(str_template.format('hello', 3.14159, 1))\n"
   ]
  },
  {
   "cell_type": "markdown",
   "metadata": {},
   "source": [
    "The newer style also permits \"dictionary\" substitution based on key words."
   ]
  },
  {
   "cell_type": "code",
   "execution_count": 126,
   "metadata": {},
   "outputs": [
    {
     "name": "stdout",
     "output_type": "stream",
     "text": [
      "This is an integer: 1\n",
      "This is a float: 3.14159\n",
      "This is a string: hello\n"
     ]
    }
   ],
   "source": [
    "str_template = 'This is an integer: {my_int}\\nThis is a float: {my_float}\\nThis is a string: {my_string}'\n",
    "print(str_template.format(my_int = 1, my_float = 3.14159, my_string = 'hello'))"
   ]
  },
  {
   "cell_type": "markdown",
   "metadata": {},
   "source": [
    "Newer style combined with formatting."
   ]
  },
  {
   "cell_type": "code",
   "execution_count": 128,
   "metadata": {},
   "outputs": [
    {
     "name": "stdout",
     "output_type": "stream",
     "text": [
      "This is an integer: 01\n",
      "This is a float: 3.142\n",
      "This is a string: hello\n"
     ]
    }
   ],
   "source": [
    "str_template = 'This is an integer: {my_int:02d}\\nThis is a float: {my_float:5.3f}\\nThis is a string: {my_string:s}'\n",
    "print(str_template.format(my_int = 1, my_float = 3.14159, my_string = 'hello'))"
   ]
  },
  {
   "cell_type": "markdown",
   "metadata": {},
   "source": [
    "String substitution is convenient for <font style=\"font-family:'Courier New\">print</font> statements with more readable code and for <font style=\"font-family:'Courier New\">file.write()</font> statements, which can contain a single string argument.  Moreover, the string template is reusable."
   ]
  },
  {
   "cell_type": "code",
   "execution_count": 130,
   "metadata": {},
   "outputs": [
    {
     "name": "stdout",
     "output_type": "stream",
     "text": [
      "This is an integer: 1 \n",
      "This is a float: 3.14159 \n",
      "This is a string: hello\n"
     ]
    }
   ],
   "source": [
    "my_int = 1\n",
    "my_float = 3.14159\n",
    "my_string = 'hello'\n",
    "print('This is an integer:', my_int, '\\nThis is a float:', my_float, '\\nThis is a string:', my_string)"
   ]
  },
  {
   "cell_type": "code",
   "execution_count": null,
   "metadata": {},
   "outputs": [],
   "source": [
    "''' You can write to a file just as your read from a file using an open() statement '''\n",
    "f = open('test.txt', 'w')  # 'w' specifies that the file is to be written as plain text\n",
    "\n",
    "''' Whatever is written must be a single string: use concatenation or string substitution '''\n",
    "h = 'hello'\n",
    "space = ' '\n",
    "w = 'world'\n",
    "shout = '!'\n",
    "\n",
    "f.write(h + space + w + shout)\n",
    "''' you must close the file or your output will not be written to the file '''\n",
    "f.close()"
   ]
  },
  {
   "cell_type": "code",
   "execution_count": null,
   "metadata": {},
   "outputs": [],
   "source": [
    "str_template = 'This is an integer: {:02d}\\nThis is a float: {:6.4f}\\nThis is a string: {:s}'\n",
    "a = 1\n",
    "b = 2.1\n",
    "c = 'test'\n",
    "with open('test_out.txt','w') as f:\n",
    "    f.write(str_template.format(a, b, c))"
   ]
  },
  {
   "cell_type": "code",
   "execution_count": null,
   "metadata": {},
   "outputs": [],
   "source": []
  },
  {
   "cell_type": "code",
   "execution_count": 86,
   "metadata": {},
   "outputs": [
    {
     "data": {
      "text/plain": [
       "[True, True, False, True]"
      ]
     },
     "execution_count": 86,
     "metadata": {},
     "output_type": "execute_result"
    }
   ],
   "source": [
    "[*reduce(lambda x,y: x|y, np.array([[True, False, False, True], [True, True, False, False], [False, False, False, False]]))]"
   ]
  },
  {
   "cell_type": "code",
   "execution_count": 88,
   "metadata": {},
   "outputs": [
    {
     "data": {
      "text/plain": [
       "[True, True, False, True]"
      ]
     },
     "execution_count": 88,
     "metadata": {},
     "output_type": "execute_result"
    }
   ],
   "source": [
    "z = np.array([[True, False, False, True], [True, True, False, False], [False, False, False, False]])\n",
    "my_or = lambda z :reduce(lambda x,y: x|y, z)\n",
    "[*my_or(z)]"
   ]
  },
  {
   "cell_type": "code",
   "execution_count": null,
   "metadata": {},
   "outputs": [],
   "source": []
  }
 ],
 "metadata": {
  "kernelspec": {
   "display_name": "Python 3",
   "language": "python",
   "name": "python3"
  },
  "language_info": {
   "codemirror_mode": {
    "name": "ipython",
    "version": 3
   },
   "file_extension": ".py",
   "mimetype": "text/x-python",
   "name": "python",
   "nbconvert_exporter": "python",
   "pygments_lexer": "ipython3",
   "version": "3.8.5"
  }
 },
 "nbformat": 4,
 "nbformat_minor": 4
}
